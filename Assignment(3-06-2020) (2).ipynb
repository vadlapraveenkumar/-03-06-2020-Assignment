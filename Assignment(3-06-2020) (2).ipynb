{
 "cells": [
  {
   "cell_type": "markdown",
   "metadata": {},
   "source": [
    "# CSE-221710309059-v praveenkumar"
   ]
  },
  {
   "cell_type": "markdown",
   "metadata": {},
   "source": [
    "## Assignment(3-06-2020)"
   ]
  },
  {
   "cell_type": "code",
   "execution_count": 8,
   "metadata": {},
   "outputs": [
    {
     "name": "stdout",
     "output_type": "stream",
     "text": [
      "Data Science With Python,Advanced Programming,AI and ML,Full Stack Web Development\n"
     ]
    }
   ],
   "source": [
    "#answer 1\n",
    "\n",
    "\n",
    "f = open(\"file1.txt\", \"w\")\n",
    "f.write(\"Data Science With Python,Advanced Programming,AI and ML,Full Stack Web Development\")\n",
    "f.close()\n",
    "\n",
    "f = open(\"file1.txt\",\"r\")\n",
    "data = f.read()\n",
    "print(data)\n",
    "f.close()\n",
    "\n",
    "f = open(\"file2.txt\",\"w\")\n",
    "f.write(data[::-1])\n",
    "f.close()\n",
    "\n"
   ]
  },
  {
   "cell_type": "code",
   "execution_count": 28,
   "metadata": {},
   "outputs": [
    {
     "name": "stdout",
     "output_type": "stream",
     "text": [
      "Contents of file in order:\n",
      "Line1: Data Science\n",
      "Line2: Advanced Programming\n",
      "Line3: AI and ML\n",
      "Line4: Full Stack Web Development\n",
      "Line5: Python Programming\n",
      "Line6: Summer Internship\n"
     ]
    }
   ],
   "source": [
    "# answer 2\n",
    "\n",
    "L = [\"Data Science\\n\", \"Advanced Programming\\n\", \"AI and ML\\n\",\"Full Stack Web Development\\n\",\"Python Programming\\n\"]\n",
    "\n",
    "f1 = open(\"myfile.txt\", \"w\") \n",
    "f1.writelines(L) \n",
    "f1.close()\n",
    "\n",
    "f1 = open(\"myfile.txt\", \"r\") \n",
    "count = 0\n",
    "\n",
    "print(\"Contents of file with line numbers:\") \n",
    "for line in f1: \n",
    "    count += 1\n",
    "    print(\"Line{}: {}\".format(count, line.strip()))\n",
    "    \n",
    "f1.close()"
   ]
  },
  {
   "cell_type": "code",
   "execution_count": 7,
   "metadata": {},
   "outputs": [
    {
     "name": "stdout",
     "output_type": "stream",
     "text": [
      "No Python documentation found for 'readlines'.\n",
      "Use help() to get the interactive help utility.\n",
      "Use help(str) for help on the str class.\n",
      "\n"
     ]
    }
   ],
   "source": []
  },
  {
   "cell_type": "code",
   "execution_count": 14,
   "metadata": {},
   "outputs": [
    {
     "name": "stdout",
     "output_type": "stream",
     "text": [
      "True\n"
     ]
    }
   ],
   "source": [
    "# answer 3\n",
    "\n",
    "\n",
    "def Duplicates(list1):\n",
    "    if len(list1) == len(set(list1)):\n",
    "        return False\n",
    "    else:\n",
    "        return True\n",
    "list1=[1,2,3,4,2]    \n",
    "result=Duplicates(list1)\n",
    "print(result)"
   ]
  },
  {
   "cell_type": "code",
   "execution_count": 3,
   "metadata": {},
   "outputs": [
    {
     "name": "stdout",
     "output_type": "stream",
     "text": [
      "fraction is: 0.4\n",
      "Addition is : 1.0\n",
      "subtraction is : 0.0\n",
      "Multiplication is : 0.25\n",
      "Division is : 1.0\n"
     ]
    }
   ],
   "source": [
    "#answer 4\n",
    "\n",
    "import myfractions as mf\n",
    "\n",
    "mf.fr(2,5)\n",
    "mf.add(1,2,1,2)\n",
    "mf.sub(1,2,1,2)\n",
    "mf.mul(1,2,1,2)\n",
    "mf.div(1,2,1,2)\n",
    "\n"
   ]
  },
  {
   "cell_type": "code",
   "execution_count": 29,
   "metadata": {},
   "outputs": [
    {
     "name": "stdout",
     "output_type": "stream",
     "text": [
      "True\n"
     ]
    }
   ],
   "source": [
    "#answer 5\n",
    "\n",
    "\n",
    "L1=[1,2,1]\n",
    "L2=[2,1,1]\n",
    "def Permutation(list1,list2):\n",
    "    if len(list1)!= len(list2):\n",
    "         return False;\n",
    "    for i in range(0, len(list1)):\n",
    "           if list1.count(list1[i]) != list2.count(list1[i]):\n",
    "                 return False\n",
    "\n",
    "def islist_permutation(list1,list2):\n",
    "      if (Permutation(list1,list2) == False):\n",
    "        return False \n",
    "      else:\n",
    "        return True\n",
    "\n",
    "print(islist_permutation(L1,L2))"
   ]
  },
  {
   "cell_type": "code",
   "execution_count": null,
   "metadata": {},
   "outputs": [],
   "source": []
  }
 ],
 "metadata": {
  "kernelspec": {
   "display_name": "Python 3",
   "language": "python",
   "name": "python3"
  },
  "language_info": {
   "codemirror_mode": {
    "name": "ipython",
    "version": 3
   },
   "file_extension": ".py",
   "mimetype": "text/x-python",
   "name": "python",
   "nbconvert_exporter": "python",
   "pygments_lexer": "ipython3",
   "version": "3.7.4"
  }
 },
 "nbformat": 4,
 "nbformat_minor": 4
}
